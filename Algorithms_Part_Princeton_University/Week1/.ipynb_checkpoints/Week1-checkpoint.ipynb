{
 "cells": [
  {
   "cell_type": "code",
   "execution_count": null,
   "metadata": {
    "scrolled": true
   },
   "outputs": [],
   "source": [
    "class UnionFind:\n",
    "    def __init__(self, n):\n",
    "        self.n = n\n",
    "        self.uflist = [i for i in range(n)]\n",
    "    def print_list(self):\n",
    "        for i, e in enumerate(self.uflist):\n",
    "            print(i, e)\n",
    "            \n",
    "t = UnionFind(10)\n",
    "t.print_list()"
   ]
  },
  {
   "cell_type": "code",
   "execution_count": null,
   "metadata": {},
   "outputs": [],
   "source": [
    "class QuickFind(UnionFind):\n",
    "    def connected(self, p, q):\n",
    "        return self.uflist[p] == self.uflist[q]\n",
    "    def union(self, p, q):\n",
    "        aim = self.uflist[p]\n",
    "        for i, e in enumerate(self.uflist):\n",
    "            if e == aim:\n",
    "                self.uflist[i] = q\n",
    "                \n",
    "t = QuickFind(10)\n",
    "t.union(4,3)\n",
    "t.union(7,3)\n",
    "t.print_list()\n",
    "print(t.connected(1,2), t.connected(3,7))"
   ]
  },
  {
   "cell_type": "code",
   "execution_count": null,
   "metadata": {},
   "outputs": [],
   "source": [
    "class QuickUnion(UnionFind):\n",
    "    def set_root(self, n, root):\n",
    "        while self.uflist[n] != root:\n",
    "            root = self.uflist[n]"
   ]
  }
 ],
 "metadata": {
  "kernelspec": {
   "display_name": "Python 3",
   "language": "python",
   "name": "python3"
  },
  "language_info": {
   "codemirror_mode": {
    "name": "ipython",
    "version": 3
   },
   "file_extension": ".py",
   "mimetype": "text/x-python",
   "name": "python",
   "nbconvert_exporter": "python",
   "pygments_lexer": "ipython3",
   "version": "3.6.4"
  }
 },
 "nbformat": 4,
 "nbformat_minor": 2
}
