{
 "cells": [
  {
   "cell_type": "code",
   "execution_count": 2,
   "metadata": {},
   "outputs": [
    {
     "name": "stdout",
     "output_type": "stream",
     "text": [
      "[1, 2, [3, 4], 5]\n"
     ]
    }
   ],
   "source": []
  },
  {
   "cell_type": "code",
   "execution_count": 15,
   "metadata": {
    "scrolled": true
   },
   "outputs": [
    {
     "name": "stdout",
     "output_type": "stream",
     "text": [
      "0 0\n",
      "1 1\n",
      "2 2\n",
      "3 3\n",
      "4 4\n",
      "5 5\n",
      "6 6\n",
      "7 7\n",
      "8 8\n",
      "9 9\n"
     ]
    }
   ],
   "source": [
    "class UnionFind:\n",
    "    def __init__(self, n):\n",
    "        self.n = n\n",
    "        self.uflist = [i for i in range(n)]\n",
    "    def print_list(self):\n",
    "        for i, e in enumerate(self.uflist):\n",
    "            print(i, e)\n",
    "            \n",
    "t = UnionFind(10)\n",
    "t.print_list()"
   ]
  },
  {
   "cell_type": "code",
   "execution_count": null,
   "metadata": {},
   "outputs": [],
   "source": [
    "class QuickFind(UnionFind):\n",
    "    def connected(self, p, q):\n",
    "        return self.uflist[p] == self.uflist[q]\n",
    "    def union(self, p, q):\n",
    "        aim = self.uflist[p]\n",
    "        for i, e in enumerate(self.uflist):\n",
    "            if e == aim:\n",
    "                self.uflist[i] = q\n",
    "                \n",
    "t = QuickFind(10)\n",
    "t.union(4,3)\n",
    "t.union(7,3)\n",
    "t.print_list()\n",
    "print(t.connected(1,2), t.connected(3,7))"
   ]
  },
  {
   "cell_type": "code",
   "execution_count": 33,
   "metadata": {},
   "outputs": [
    {
     "name": "stdout",
     "output_type": "stream",
     "text": [
      "False\n",
      "True\n",
      "0 0\n",
      "1 1\n",
      "2 9\n",
      "3 9\n",
      "4 9\n",
      "5 6\n",
      "6 6\n",
      "7 7\n",
      "8 8\n",
      "9 6\n"
     ]
    }
   ],
   "source": [
    "class QuickUnion(UnionFind):\n",
    "    def root(self, n):\n",
    "        while self.uflist[n] != n:\n",
    "            n = self.uflist[n]\n",
    "        return n\n",
    "    def connected(self, p, q):\n",
    "        return self.root(p) == self.root(q)\n",
    "    def union(self, p, q):\n",
    "        a = self.root(p)\n",
    "        b = self.root(q)\n",
    "        self.uflist[a] = b\n",
    "    \n",
    "t = QuickUnion(10)\n",
    "t.union(2, 9)\n",
    "t.union(4, 9)\n",
    "t.union(3, 4)\n",
    "t.union(5, 6)\n",
    "print(t.connected(3, 5))\n",
    "t.union(9, 6)\n",
    "print(t.connected(3, 5))\n",
    "t.print_list()"
   ]
  }
 ],
 "metadata": {
  "kernelspec": {
   "display_name": "Python 3",
   "language": "python",
   "name": "python3"
  },
  "language_info": {
   "codemirror_mode": {
    "name": "ipython",
    "version": 3
   },
   "file_extension": ".py",
   "mimetype": "text/x-python",
   "name": "python",
   "nbconvert_exporter": "python",
   "pygments_lexer": "ipython3",
   "version": "3.6.4"
  }
 },
 "nbformat": 4,
 "nbformat_minor": 2
}
